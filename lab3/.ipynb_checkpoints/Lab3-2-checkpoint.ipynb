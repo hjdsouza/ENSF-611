{
 "cells": [
  {
   "cell_type": "markdown",
   "id": "87fee377",
   "metadata": {},
   "source": [
    "# Lab 3 - Part 2: PCA and Clustering (12 marks)\n",
    "### Due Date: Monday, March 13 at 12pm\n",
    "\n",
    "Author: *Hannah D'Souza*"
   ]
  },
  {
   "cell_type": "markdown",
   "id": "ba7f05d0",
   "metadata": {},
   "source": [
    "The purpose of this portion of the assignment is to practice using PCA and clustering techniques on a given dataset"
   ]
  },
  {
   "cell_type": "code",
   "execution_count": 55,
   "id": "be4299ae",
   "metadata": {},
   "outputs": [],
   "source": [
    "import numpy as np\n",
    "import pandas as pd"
   ]
  },
  {
   "cell_type": "markdown",
   "id": "18a83b6f",
   "metadata": {},
   "source": [
    "## 0. Function definitions (2 marks)"
   ]
  },
  {
   "cell_type": "code",
   "execution_count": 56,
   "id": "13d602f2",
   "metadata": {},
   "outputs": [],
   "source": [
    "from sklearn.cluster import KMeans\n",
    "from sklearn.decomposition import PCA\n",
    "from sklearn.metrics import silhouette_score\n",
    "\n",
    "def cluster_fn(n_clusters, X, n_components=0):\n",
    "    '''Calculate silhouette score for a given dataset, number of clusters, \n",
    "       and number of principle components using Kmeans clustering (random_state=0)\n",
    "        \n",
    "        n_clusters (int): number of clusters to use for Kmeans\n",
    "        n_components (int): number of principle components (optional)\n",
    "        X (numpy.array or pandas.DataFrame): unlabelled dataset\n",
    "        \n",
    "        returns: silhouette score\n",
    "    \n",
    "    '''\n",
    "    # TODO: Implement function body\n",
    "    \n",
    "    #Check if the components are greater than 0, if it is then apply PCA\n",
    "    if n_components > 0:\n",
    "        pca = PCA(n_components=n_components)\n",
    "        X = pca.fit_transform(X)\n",
    "        \n",
    "    kmeans = KMeans(n_clusters, random_state=50)\n",
    "    labels = kmeans.fit_predict(X)\n",
    "    \n",
    "    s_score = silhouette_score(X,labels, random_state =50)\n",
    "    \n",
    "    return s_score\n",
    "    \n",
    "    \n",
    "    \n",
    "                              \n",
    "    \n",
    "    "
   ]
  },
  {
   "cell_type": "markdown",
   "id": "fe7cfa4f",
   "metadata": {},
   "source": [
    "## 1. Load data (2 marks)\n",
    "\n",
    "For this assignment, we will use the dataset found below:\n",
    "\n",
    "https://archive.ics.uci.edu/ml/datasets/Chemical+Composition+of+Ceramic+Samples"
   ]
  },
  {
   "cell_type": "code",
   "execution_count": 57,
   "id": "474481f1",
   "metadata": {},
   "outputs": [],
   "source": [
    "# TODO: Import dataset\n",
    "\n",
    "import pandas as pd\n",
    "\n",
    "df = pd.read_csv('Chemical Composion of Ceramic.csv')\n",
    "\n"
   ]
  },
  {
   "cell_type": "markdown",
   "id": "f908b657",
   "metadata": {},
   "source": [
    "Two of the columns are non-numeric. For this assignment, we will remove those two columns and focus on clustering the ceramic samples based on the numerical measurements"
   ]
  },
  {
   "cell_type": "code",
   "execution_count": 58,
   "id": "e2efda0e",
   "metadata": {},
   "outputs": [],
   "source": [
    "# TODO: Remove non-numeric columns\n",
    "\n",
    "import pandas as pd\n",
    "\n",
    "df = df.select_dtypes(include='number')"
   ]
  },
  {
   "cell_type": "markdown",
   "id": "3bf578b1",
   "metadata": {},
   "source": [
    "## 2. Implement clustering (8 marks)"
   ]
  },
  {
   "cell_type": "markdown",
   "id": "980c62e1",
   "metadata": {},
   "source": [
    "### 2.1 Cluster using raw data (1 mark)\n",
    "\n",
    "Implement Kmeans clustering using the raw data. Compare the silhouette scores using 2, 3, 4, 5 and 6 clusters"
   ]
  },
  {
   "cell_type": "code",
   "execution_count": 69,
   "id": "5f85da0b",
   "metadata": {},
   "outputs": [
    {
     "name": "stdout",
     "output_type": "stream",
     "text": [
      "Number of clusters: 2 | Silhouette score: 0.5840130686182087\n",
      "Number of clusters: 3 | Silhouette score: 0.5616399840165864\n",
      "Number of clusters: 4 | Silhouette score: 0.543410860697891\n"
     ]
    },
    {
     "name": "stderr",
     "output_type": "stream",
     "text": [
      "C:\\Users\\hanna\\AppData\\Local\\Temp\\ipykernel_6136\\3165924790.py:8: FutureWarning: The frame.append method is deprecated and will be removed from pandas in a future version. Use pandas.concat instead.\n",
      "  results = results.append({'Number of Clusters': n_clusters,'Silhouette score': s_score}, ignore_index=True)\n",
      "C:\\Users\\hanna\\AppData\\Local\\Temp\\ipykernel_6136\\3165924790.py:8: FutureWarning: The frame.append method is deprecated and will be removed from pandas in a future version. Use pandas.concat instead.\n",
      "  results = results.append({'Number of Clusters': n_clusters,'Silhouette score': s_score}, ignore_index=True)\n",
      "C:\\Users\\hanna\\AppData\\Local\\Temp\\ipykernel_6136\\3165924790.py:8: FutureWarning: The frame.append method is deprecated and will be removed from pandas in a future version. Use pandas.concat instead.\n",
      "  results = results.append({'Number of Clusters': n_clusters,'Silhouette score': s_score}, ignore_index=True)\n"
     ]
    },
    {
     "name": "stdout",
     "output_type": "stream",
     "text": [
      "Number of clusters: 5 | Silhouette score: 0.5080642704990367\n",
      "Number of clusters: 6 | Silhouette score: 0.48969498223151237\n"
     ]
    },
    {
     "name": "stderr",
     "output_type": "stream",
     "text": [
      "C:\\Users\\hanna\\AppData\\Local\\Temp\\ipykernel_6136\\3165924790.py:8: FutureWarning: The frame.append method is deprecated and will be removed from pandas in a future version. Use pandas.concat instead.\n",
      "  results = results.append({'Number of Clusters': n_clusters,'Silhouette score': s_score}, ignore_index=True)\n",
      "C:\\Users\\hanna\\AppData\\Local\\Temp\\ipykernel_6136\\3165924790.py:8: FutureWarning: The frame.append method is deprecated and will be removed from pandas in a future version. Use pandas.concat instead.\n",
      "  results = results.append({'Number of Clusters': n_clusters,'Silhouette score': s_score}, ignore_index=True)\n"
     ]
    }
   ],
   "source": [
    "# TODO: Implement clustering with raw data using cluster_fn above\n",
    "\n",
    "results = pd.DataFrame(columns=['Number of Clusters', 'Silhouette score'])\n",
    "\n",
    "for n_clusters in range(2,7):\n",
    "    s_score = cluster_fn(n_clusters, df, n_components=0)\n",
    "    print(f\"Number of clusters: {n_clusters} | Silhouette score: {s_score}\")\n",
    "    results = results.append({'Number of Clusters': n_clusters,'Silhouette score': s_score}, ignore_index=True)\n",
    "    \n",
    "    \n",
    "    "
   ]
  },
  {
   "cell_type": "markdown",
   "id": "48df428e",
   "metadata": {},
   "source": [
    "### 2.2 Cluster using PCA-transformed data (2 marks)\n",
    "\n",
    "Implement Kmeans clustering using the PCA-transformed data. Compare the silhouette scores using 2, 3, 4, 5 and 6 clusters and 2, 3, 4, 5 and 6 principle components "
   ]
  },
  {
   "cell_type": "code",
   "execution_count": 73,
   "id": "de0a5d80",
   "metadata": {},
   "outputs": [
    {
     "name": "stdout",
     "output_type": "stream",
     "text": [
      "Number of clusters: 2 | Silhouette score: 0.48969498223151237 | Principle components: 2\n",
      "Number of clusters: 2 | Silhouette score: 0.48969498223151237 | Principle components: 3\n",
      "Number of clusters: 2 | Silhouette score: 0.48969498223151237 | Principle components: 4\n",
      "Number of clusters: 2 | Silhouette score: 0.48969498223151237 | Principle components: 5\n"
     ]
    },
    {
     "name": "stderr",
     "output_type": "stream",
     "text": [
      "C:\\Users\\hanna\\AppData\\Local\\Temp\\ipykernel_6136\\2431635689.py:7: FutureWarning: The frame.append method is deprecated and will be removed from pandas in a future version. Use pandas.concat instead.\n",
      "  results_1 = results_1.append({'Number of Clusters': n_clusters,'Silhouette score': principle_score,'Principle component': n_components}, ignore_index=True)\n",
      "C:\\Users\\hanna\\AppData\\Local\\Temp\\ipykernel_6136\\2431635689.py:7: FutureWarning: The frame.append method is deprecated and will be removed from pandas in a future version. Use pandas.concat instead.\n",
      "  results_1 = results_1.append({'Number of Clusters': n_clusters,'Silhouette score': principle_score,'Principle component': n_components}, ignore_index=True)\n",
      "C:\\Users\\hanna\\AppData\\Local\\Temp\\ipykernel_6136\\2431635689.py:7: FutureWarning: The frame.append method is deprecated and will be removed from pandas in a future version. Use pandas.concat instead.\n",
      "  results_1 = results_1.append({'Number of Clusters': n_clusters,'Silhouette score': principle_score,'Principle component': n_components}, ignore_index=True)\n",
      "C:\\Users\\hanna\\AppData\\Local\\Temp\\ipykernel_6136\\2431635689.py:7: FutureWarning: The frame.append method is deprecated and will be removed from pandas in a future version. Use pandas.concat instead.\n",
      "  results_1 = results_1.append({'Number of Clusters': n_clusters,'Silhouette score': principle_score,'Principle component': n_components}, ignore_index=True)\n"
     ]
    },
    {
     "name": "stdout",
     "output_type": "stream",
     "text": [
      "Number of clusters: 2 | Silhouette score: 0.48969498223151237 | Principle components: 6\n",
      "Number of clusters: 3 | Silhouette score: 0.48969498223151237 | Principle components: 2\n",
      "Number of clusters: 3 | Silhouette score: 0.48969498223151237 | Principle components: 3\n"
     ]
    },
    {
     "name": "stderr",
     "output_type": "stream",
     "text": [
      "C:\\Users\\hanna\\AppData\\Local\\Temp\\ipykernel_6136\\2431635689.py:7: FutureWarning: The frame.append method is deprecated and will be removed from pandas in a future version. Use pandas.concat instead.\n",
      "  results_1 = results_1.append({'Number of Clusters': n_clusters,'Silhouette score': principle_score,'Principle component': n_components}, ignore_index=True)\n",
      "C:\\Users\\hanna\\AppData\\Local\\Temp\\ipykernel_6136\\2431635689.py:7: FutureWarning: The frame.append method is deprecated and will be removed from pandas in a future version. Use pandas.concat instead.\n",
      "  results_1 = results_1.append({'Number of Clusters': n_clusters,'Silhouette score': principle_score,'Principle component': n_components}, ignore_index=True)\n",
      "C:\\Users\\hanna\\AppData\\Local\\Temp\\ipykernel_6136\\2431635689.py:7: FutureWarning: The frame.append method is deprecated and will be removed from pandas in a future version. Use pandas.concat instead.\n",
      "  results_1 = results_1.append({'Number of Clusters': n_clusters,'Silhouette score': principle_score,'Principle component': n_components}, ignore_index=True)\n"
     ]
    },
    {
     "name": "stdout",
     "output_type": "stream",
     "text": [
      "Number of clusters: 3 | Silhouette score: 0.48969498223151237 | Principle components: 4\n",
      "Number of clusters: 3 | Silhouette score: 0.48969498223151237 | Principle components: 5\n",
      "Number of clusters: 3 | Silhouette score: 0.48969498223151237 | Principle components: 6\n",
      "Number of clusters: 4 | Silhouette score: 0.48969498223151237 | Principle components: 2\n"
     ]
    },
    {
     "name": "stderr",
     "output_type": "stream",
     "text": [
      "C:\\Users\\hanna\\AppData\\Local\\Temp\\ipykernel_6136\\2431635689.py:7: FutureWarning: The frame.append method is deprecated and will be removed from pandas in a future version. Use pandas.concat instead.\n",
      "  results_1 = results_1.append({'Number of Clusters': n_clusters,'Silhouette score': principle_score,'Principle component': n_components}, ignore_index=True)\n",
      "C:\\Users\\hanna\\AppData\\Local\\Temp\\ipykernel_6136\\2431635689.py:7: FutureWarning: The frame.append method is deprecated and will be removed from pandas in a future version. Use pandas.concat instead.\n",
      "  results_1 = results_1.append({'Number of Clusters': n_clusters,'Silhouette score': principle_score,'Principle component': n_components}, ignore_index=True)\n",
      "C:\\Users\\hanna\\AppData\\Local\\Temp\\ipykernel_6136\\2431635689.py:7: FutureWarning: The frame.append method is deprecated and will be removed from pandas in a future version. Use pandas.concat instead.\n",
      "  results_1 = results_1.append({'Number of Clusters': n_clusters,'Silhouette score': principle_score,'Principle component': n_components}, ignore_index=True)\n",
      "C:\\Users\\hanna\\AppData\\Local\\Temp\\ipykernel_6136\\2431635689.py:7: FutureWarning: The frame.append method is deprecated and will be removed from pandas in a future version. Use pandas.concat instead.\n",
      "  results_1 = results_1.append({'Number of Clusters': n_clusters,'Silhouette score': principle_score,'Principle component': n_components}, ignore_index=True)\n"
     ]
    },
    {
     "name": "stdout",
     "output_type": "stream",
     "text": [
      "Number of clusters: 4 | Silhouette score: 0.48969498223151237 | Principle components: 3\n",
      "Number of clusters: 4 | Silhouette score: 0.48969498223151237 | Principle components: 4\n",
      "Number of clusters: 4 | Silhouette score: 0.48969498223151237 | Principle components: 5\n"
     ]
    },
    {
     "name": "stderr",
     "output_type": "stream",
     "text": [
      "C:\\Users\\hanna\\AppData\\Local\\Temp\\ipykernel_6136\\2431635689.py:7: FutureWarning: The frame.append method is deprecated and will be removed from pandas in a future version. Use pandas.concat instead.\n",
      "  results_1 = results_1.append({'Number of Clusters': n_clusters,'Silhouette score': principle_score,'Principle component': n_components}, ignore_index=True)\n",
      "C:\\Users\\hanna\\AppData\\Local\\Temp\\ipykernel_6136\\2431635689.py:7: FutureWarning: The frame.append method is deprecated and will be removed from pandas in a future version. Use pandas.concat instead.\n",
      "  results_1 = results_1.append({'Number of Clusters': n_clusters,'Silhouette score': principle_score,'Principle component': n_components}, ignore_index=True)\n",
      "C:\\Users\\hanna\\AppData\\Local\\Temp\\ipykernel_6136\\2431635689.py:7: FutureWarning: The frame.append method is deprecated and will be removed from pandas in a future version. Use pandas.concat instead.\n",
      "  results_1 = results_1.append({'Number of Clusters': n_clusters,'Silhouette score': principle_score,'Principle component': n_components}, ignore_index=True)\n"
     ]
    },
    {
     "name": "stdout",
     "output_type": "stream",
     "text": [
      "Number of clusters: 4 | Silhouette score: 0.48969498223151237 | Principle components: 6\n",
      "Number of clusters: 5 | Silhouette score: 0.48969498223151237 | Principle components: 2\n",
      "Number of clusters: 5 | Silhouette score: 0.48969498223151237 | Principle components: 3\n"
     ]
    },
    {
     "name": "stderr",
     "output_type": "stream",
     "text": [
      "C:\\Users\\hanna\\AppData\\Local\\Temp\\ipykernel_6136\\2431635689.py:7: FutureWarning: The frame.append method is deprecated and will be removed from pandas in a future version. Use pandas.concat instead.\n",
      "  results_1 = results_1.append({'Number of Clusters': n_clusters,'Silhouette score': principle_score,'Principle component': n_components}, ignore_index=True)\n",
      "C:\\Users\\hanna\\AppData\\Local\\Temp\\ipykernel_6136\\2431635689.py:7: FutureWarning: The frame.append method is deprecated and will be removed from pandas in a future version. Use pandas.concat instead.\n",
      "  results_1 = results_1.append({'Number of Clusters': n_clusters,'Silhouette score': principle_score,'Principle component': n_components}, ignore_index=True)\n",
      "C:\\Users\\hanna\\AppData\\Local\\Temp\\ipykernel_6136\\2431635689.py:7: FutureWarning: The frame.append method is deprecated and will be removed from pandas in a future version. Use pandas.concat instead.\n",
      "  results_1 = results_1.append({'Number of Clusters': n_clusters,'Silhouette score': principle_score,'Principle component': n_components}, ignore_index=True)\n"
     ]
    },
    {
     "name": "stdout",
     "output_type": "stream",
     "text": [
      "Number of clusters: 5 | Silhouette score: 0.48969498223151237 | Principle components: 4\n",
      "Number of clusters: 5 | Silhouette score: 0.48969498223151237 | Principle components: 5\n",
      "Number of clusters: 5 | Silhouette score: 0.48969498223151237 | Principle components: 6\n"
     ]
    },
    {
     "name": "stderr",
     "output_type": "stream",
     "text": [
      "C:\\Users\\hanna\\AppData\\Local\\Temp\\ipykernel_6136\\2431635689.py:7: FutureWarning: The frame.append method is deprecated and will be removed from pandas in a future version. Use pandas.concat instead.\n",
      "  results_1 = results_1.append({'Number of Clusters': n_clusters,'Silhouette score': principle_score,'Principle component': n_components}, ignore_index=True)\n",
      "C:\\Users\\hanna\\AppData\\Local\\Temp\\ipykernel_6136\\2431635689.py:7: FutureWarning: The frame.append method is deprecated and will be removed from pandas in a future version. Use pandas.concat instead.\n",
      "  results_1 = results_1.append({'Number of Clusters': n_clusters,'Silhouette score': principle_score,'Principle component': n_components}, ignore_index=True)\n",
      "C:\\Users\\hanna\\AppData\\Local\\Temp\\ipykernel_6136\\2431635689.py:7: FutureWarning: The frame.append method is deprecated and will be removed from pandas in a future version. Use pandas.concat instead.\n",
      "  results_1 = results_1.append({'Number of Clusters': n_clusters,'Silhouette score': principle_score,'Principle component': n_components}, ignore_index=True)\n"
     ]
    },
    {
     "name": "stdout",
     "output_type": "stream",
     "text": [
      "Number of clusters: 6 | Silhouette score: 0.48969498223151237 | Principle components: 2\n",
      "Number of clusters: 6 | Silhouette score: 0.48969498223151237 | Principle components: 3\n",
      "Number of clusters: 6 | Silhouette score: 0.48969498223151237 | Principle components: 4\n"
     ]
    },
    {
     "name": "stderr",
     "output_type": "stream",
     "text": [
      "C:\\Users\\hanna\\AppData\\Local\\Temp\\ipykernel_6136\\2431635689.py:7: FutureWarning: The frame.append method is deprecated and will be removed from pandas in a future version. Use pandas.concat instead.\n",
      "  results_1 = results_1.append({'Number of Clusters': n_clusters,'Silhouette score': principle_score,'Principle component': n_components}, ignore_index=True)\n",
      "C:\\Users\\hanna\\AppData\\Local\\Temp\\ipykernel_6136\\2431635689.py:7: FutureWarning: The frame.append method is deprecated and will be removed from pandas in a future version. Use pandas.concat instead.\n",
      "  results_1 = results_1.append({'Number of Clusters': n_clusters,'Silhouette score': principle_score,'Principle component': n_components}, ignore_index=True)\n",
      "C:\\Users\\hanna\\AppData\\Local\\Temp\\ipykernel_6136\\2431635689.py:7: FutureWarning: The frame.append method is deprecated and will be removed from pandas in a future version. Use pandas.concat instead.\n",
      "  results_1 = results_1.append({'Number of Clusters': n_clusters,'Silhouette score': principle_score,'Principle component': n_components}, ignore_index=True)\n"
     ]
    },
    {
     "name": "stdout",
     "output_type": "stream",
     "text": [
      "Number of clusters: 6 | Silhouette score: 0.48969498223151237 | Principle components: 5\n",
      "Number of clusters: 6 | Silhouette score: 0.48969498223151237 | Principle components: 6\n"
     ]
    },
    {
     "name": "stderr",
     "output_type": "stream",
     "text": [
      "C:\\Users\\hanna\\AppData\\Local\\Temp\\ipykernel_6136\\2431635689.py:7: FutureWarning: The frame.append method is deprecated and will be removed from pandas in a future version. Use pandas.concat instead.\n",
      "  results_1 = results_1.append({'Number of Clusters': n_clusters,'Silhouette score': principle_score,'Principle component': n_components}, ignore_index=True)\n",
      "C:\\Users\\hanna\\AppData\\Local\\Temp\\ipykernel_6136\\2431635689.py:7: FutureWarning: The frame.append method is deprecated and will be removed from pandas in a future version. Use pandas.concat instead.\n",
      "  results_1 = results_1.append({'Number of Clusters': n_clusters,'Silhouette score': principle_score,'Principle component': n_components}, ignore_index=True)\n"
     ]
    }
   ],
   "source": [
    "# TODO: Implement clustering with PCA-transformed data using cluster_fn above\n",
    "results_1 = pd.DataFrame(columns=['Number of Clusters', 'Silhouette score', 'Principle component'])\n",
    "for n_clusters in range(2, 7):\n",
    "    for n_components in range(2, 7):\n",
    "        principle_score  = cluster_fn(n_clusters, df, n_components)\n",
    "        print(f\"Number of clusters: {n_clusters} | Silhouette score: {s_score} | Principle components: {n_components}\")\n",
    "        results_1 = results_1.append({'Number of Clusters': n_clusters,'Silhouette score': principle_score,'Principle component': n_components}, ignore_index=True)"
   ]
  },
  {
   "cell_type": "markdown",
   "id": "50eb5219",
   "metadata": {},
   "source": [
    "### 2.3 Display results (2 marks)\n",
    "\n",
    "Print the results for 2.1 and 2.2 in a table. Include column and row labels"
   ]
  },
  {
   "cell_type": "code",
   "execution_count": 74,
   "id": "9ae81ac6",
   "metadata": {
    "scrolled": true
   },
   "outputs": [
    {
     "name": "stdout",
     "output_type": "stream",
     "text": [
      "Results for 2.1\n"
     ]
    },
    {
     "data": {
      "text/html": [
       "<div>\n",
       "<style scoped>\n",
       "    .dataframe tbody tr th:only-of-type {\n",
       "        vertical-align: middle;\n",
       "    }\n",
       "\n",
       "    .dataframe tbody tr th {\n",
       "        vertical-align: top;\n",
       "    }\n",
       "\n",
       "    .dataframe thead th {\n",
       "        text-align: right;\n",
       "    }\n",
       "</style>\n",
       "<table border=\"1\" class=\"dataframe\">\n",
       "  <thead>\n",
       "    <tr style=\"text-align: right;\">\n",
       "      <th></th>\n",
       "      <th>Number of Clusters</th>\n",
       "      <th>Silhouette score</th>\n",
       "    </tr>\n",
       "  </thead>\n",
       "  <tbody>\n",
       "    <tr>\n",
       "      <th>0</th>\n",
       "      <td>2.0</td>\n",
       "      <td>0.584013</td>\n",
       "    </tr>\n",
       "    <tr>\n",
       "      <th>1</th>\n",
       "      <td>3.0</td>\n",
       "      <td>0.561640</td>\n",
       "    </tr>\n",
       "    <tr>\n",
       "      <th>2</th>\n",
       "      <td>4.0</td>\n",
       "      <td>0.543411</td>\n",
       "    </tr>\n",
       "    <tr>\n",
       "      <th>3</th>\n",
       "      <td>5.0</td>\n",
       "      <td>0.508064</td>\n",
       "    </tr>\n",
       "    <tr>\n",
       "      <th>4</th>\n",
       "      <td>6.0</td>\n",
       "      <td>0.489695</td>\n",
       "    </tr>\n",
       "  </tbody>\n",
       "</table>\n",
       "</div>"
      ],
      "text/plain": [
       "   Number of Clusters  Silhouette score\n",
       "0                 2.0          0.584013\n",
       "1                 3.0          0.561640\n",
       "2                 4.0          0.543411\n",
       "3                 5.0          0.508064\n",
       "4                 6.0          0.489695"
      ]
     },
     "execution_count": 74,
     "metadata": {},
     "output_type": "execute_result"
    }
   ],
   "source": [
    "# TODO: Display results\n",
    "\n",
    "print(\"Results for 2.1\")\n",
    "results\n",
    "\n",
    "\n"
   ]
  },
  {
   "cell_type": "code",
   "execution_count": 75,
   "id": "015b685a",
   "metadata": {},
   "outputs": [
    {
     "name": "stdout",
     "output_type": "stream",
     "text": [
      "Results for 2.2\n"
     ]
    },
    {
     "data": {
      "text/html": [
       "<div>\n",
       "<style scoped>\n",
       "    .dataframe tbody tr th:only-of-type {\n",
       "        vertical-align: middle;\n",
       "    }\n",
       "\n",
       "    .dataframe tbody tr th {\n",
       "        vertical-align: top;\n",
       "    }\n",
       "\n",
       "    .dataframe thead th {\n",
       "        text-align: right;\n",
       "    }\n",
       "</style>\n",
       "<table border=\"1\" class=\"dataframe\">\n",
       "  <thead>\n",
       "    <tr style=\"text-align: right;\">\n",
       "      <th></th>\n",
       "      <th>Number of Clusters</th>\n",
       "      <th>Silhouette score</th>\n",
       "      <th>Principle component</th>\n",
       "    </tr>\n",
       "  </thead>\n",
       "  <tbody>\n",
       "    <tr>\n",
       "      <th>0</th>\n",
       "      <td>2.0</td>\n",
       "      <td>0.619442</td>\n",
       "      <td>2.0</td>\n",
       "    </tr>\n",
       "    <tr>\n",
       "      <th>1</th>\n",
       "      <td>2.0</td>\n",
       "      <td>0.599961</td>\n",
       "      <td>3.0</td>\n",
       "    </tr>\n",
       "    <tr>\n",
       "      <th>2</th>\n",
       "      <td>2.0</td>\n",
       "      <td>0.589955</td>\n",
       "      <td>4.0</td>\n",
       "    </tr>\n",
       "    <tr>\n",
       "      <th>3</th>\n",
       "      <td>2.0</td>\n",
       "      <td>0.587472</td>\n",
       "      <td>5.0</td>\n",
       "    </tr>\n",
       "    <tr>\n",
       "      <th>4</th>\n",
       "      <td>2.0</td>\n",
       "      <td>0.585963</td>\n",
       "      <td>6.0</td>\n",
       "    </tr>\n",
       "    <tr>\n",
       "      <th>5</th>\n",
       "      <td>3.0</td>\n",
       "      <td>0.611625</td>\n",
       "      <td>2.0</td>\n",
       "    </tr>\n",
       "    <tr>\n",
       "      <th>6</th>\n",
       "      <td>3.0</td>\n",
       "      <td>0.586447</td>\n",
       "      <td>3.0</td>\n",
       "    </tr>\n",
       "    <tr>\n",
       "      <th>7</th>\n",
       "      <td>3.0</td>\n",
       "      <td>0.570949</td>\n",
       "      <td>4.0</td>\n",
       "    </tr>\n",
       "    <tr>\n",
       "      <th>8</th>\n",
       "      <td>3.0</td>\n",
       "      <td>0.566995</td>\n",
       "      <td>5.0</td>\n",
       "    </tr>\n",
       "    <tr>\n",
       "      <th>9</th>\n",
       "      <td>3.0</td>\n",
       "      <td>0.564725</td>\n",
       "      <td>6.0</td>\n",
       "    </tr>\n",
       "    <tr>\n",
       "      <th>10</th>\n",
       "      <td>4.0</td>\n",
       "      <td>0.600752</td>\n",
       "      <td>2.0</td>\n",
       "    </tr>\n",
       "    <tr>\n",
       "      <th>11</th>\n",
       "      <td>4.0</td>\n",
       "      <td>0.570531</td>\n",
       "      <td>3.0</td>\n",
       "    </tr>\n",
       "    <tr>\n",
       "      <th>12</th>\n",
       "      <td>4.0</td>\n",
       "      <td>0.553715</td>\n",
       "      <td>4.0</td>\n",
       "    </tr>\n",
       "    <tr>\n",
       "      <th>13</th>\n",
       "      <td>4.0</td>\n",
       "      <td>0.549286</td>\n",
       "      <td>5.0</td>\n",
       "    </tr>\n",
       "    <tr>\n",
       "      <th>14</th>\n",
       "      <td>4.0</td>\n",
       "      <td>0.546752</td>\n",
       "      <td>6.0</td>\n",
       "    </tr>\n",
       "    <tr>\n",
       "      <th>15</th>\n",
       "      <td>5.0</td>\n",
       "      <td>0.567088</td>\n",
       "      <td>2.0</td>\n",
       "    </tr>\n",
       "    <tr>\n",
       "      <th>16</th>\n",
       "      <td>5.0</td>\n",
       "      <td>0.544540</td>\n",
       "      <td>3.0</td>\n",
       "    </tr>\n",
       "    <tr>\n",
       "      <th>17</th>\n",
       "      <td>5.0</td>\n",
       "      <td>0.521348</td>\n",
       "      <td>4.0</td>\n",
       "    </tr>\n",
       "    <tr>\n",
       "      <th>18</th>\n",
       "      <td>5.0</td>\n",
       "      <td>0.515809</td>\n",
       "      <td>5.0</td>\n",
       "    </tr>\n",
       "    <tr>\n",
       "      <th>19</th>\n",
       "      <td>5.0</td>\n",
       "      <td>0.512537</td>\n",
       "      <td>6.0</td>\n",
       "    </tr>\n",
       "    <tr>\n",
       "      <th>20</th>\n",
       "      <td>6.0</td>\n",
       "      <td>0.569320</td>\n",
       "      <td>2.0</td>\n",
       "    </tr>\n",
       "    <tr>\n",
       "      <th>21</th>\n",
       "      <td>6.0</td>\n",
       "      <td>0.530621</td>\n",
       "      <td>3.0</td>\n",
       "    </tr>\n",
       "    <tr>\n",
       "      <th>22</th>\n",
       "      <td>6.0</td>\n",
       "      <td>0.505499</td>\n",
       "      <td>4.0</td>\n",
       "    </tr>\n",
       "    <tr>\n",
       "      <th>23</th>\n",
       "      <td>6.0</td>\n",
       "      <td>0.510924</td>\n",
       "      <td>5.0</td>\n",
       "    </tr>\n",
       "    <tr>\n",
       "      <th>24</th>\n",
       "      <td>6.0</td>\n",
       "      <td>0.495137</td>\n",
       "      <td>6.0</td>\n",
       "    </tr>\n",
       "  </tbody>\n",
       "</table>\n",
       "</div>"
      ],
      "text/plain": [
       "    Number of Clusters  Silhouette score  Principle component\n",
       "0                  2.0          0.619442                  2.0\n",
       "1                  2.0          0.599961                  3.0\n",
       "2                  2.0          0.589955                  4.0\n",
       "3                  2.0          0.587472                  5.0\n",
       "4                  2.0          0.585963                  6.0\n",
       "5                  3.0          0.611625                  2.0\n",
       "6                  3.0          0.586447                  3.0\n",
       "7                  3.0          0.570949                  4.0\n",
       "8                  3.0          0.566995                  5.0\n",
       "9                  3.0          0.564725                  6.0\n",
       "10                 4.0          0.600752                  2.0\n",
       "11                 4.0          0.570531                  3.0\n",
       "12                 4.0          0.553715                  4.0\n",
       "13                 4.0          0.549286                  5.0\n",
       "14                 4.0          0.546752                  6.0\n",
       "15                 5.0          0.567088                  2.0\n",
       "16                 5.0          0.544540                  3.0\n",
       "17                 5.0          0.521348                  4.0\n",
       "18                 5.0          0.515809                  5.0\n",
       "19                 5.0          0.512537                  6.0\n",
       "20                 6.0          0.569320                  2.0\n",
       "21                 6.0          0.530621                  3.0\n",
       "22                 6.0          0.505499                  4.0\n",
       "23                 6.0          0.510924                  5.0\n",
       "24                 6.0          0.495137                  6.0"
      ]
     },
     "execution_count": 75,
     "metadata": {},
     "output_type": "execute_result"
    }
   ],
   "source": [
    "print(\"Results for 2.2\")\n",
    "results_1"
   ]
  },
  {
   "cell_type": "markdown",
   "id": "e1086de9",
   "metadata": {},
   "source": [
    "**Question**: Which combination of number of clusters and number of components produced the best results? What is the silhouette score for this combination? **(3 marks)**\n",
    "With 2 components, 2 clusters we get a silhoullete_score of 0.61\n",
    "\n",
    "\n"
   ]
  },
  {
   "cell_type": "markdown",
   "id": "6e64bf4a",
   "metadata": {},
   "source": [
    "## 3. Improve results (Bonus - 3 marks)\n",
    "\n",
    "Think about how you could improve the results from the previous section. Two potential methods include preprocessing the data or selecting a different clustering algorithm. Repeat section 2 with your selected improvement method to determine what the new silhouette scores would be"
   ]
  },
  {
   "cell_type": "code",
   "execution_count": 62,
   "id": "3a8a9432",
   "metadata": {},
   "outputs": [],
   "source": [
    "# TODO: Repeat steps 2.1-2.3 using a different method/preprocessing/etc."
   ]
  },
  {
   "cell_type": "markdown",
   "id": "ae4193d4",
   "metadata": {},
   "source": [
    "**Question**: Why did you select this improvement method? Which combination of number of clusters and number of components produced the best results? Did you improve the silhouette scores? If yes, how much of an improvement did you get over the previous results?\n",
    "\n",
    "*ANSWER HERE*"
   ]
  },
  {
   "cell_type": "code",
   "execution_count": null,
   "id": "05128594",
   "metadata": {},
   "outputs": [],
   "source": []
  }
 ],
 "metadata": {
  "kernelspec": {
   "display_name": "Python 3 (ipykernel)",
   "language": "python",
   "name": "python3"
  },
  "language_info": {
   "codemirror_mode": {
    "name": "ipython",
    "version": 3
   },
   "file_extension": ".py",
   "mimetype": "text/x-python",
   "name": "python",
   "nbconvert_exporter": "python",
   "pygments_lexer": "ipython3",
   "version": "3.8.16"
  }
 },
 "nbformat": 4,
 "nbformat_minor": 5
}
